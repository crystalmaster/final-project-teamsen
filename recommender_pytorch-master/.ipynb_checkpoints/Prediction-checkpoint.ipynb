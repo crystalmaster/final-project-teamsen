{
 "cells": [
  {
   "cell_type": "markdown",
   "metadata": {},
   "source": [
    "##IMPORT Library"
   ]
  },
  {
   "cell_type": "markdown",
   "metadata": {},
   "source": [
    "haha"
   ]
  },
  {
   "cell_type": "code",
   "execution_count": 1,
   "metadata": {},
   "outputs": [],
   "source": [
    "import pandas as pd\n",
    "import heapq\n",
    "import csv, json"
   ]
  },
  {
   "cell_type": "code",
   "execution_count": 2,
   "metadata": {},
   "outputs": [],
   "source": [
    "import torch"
   ]
  },
  {
   "cell_type": "code",
   "execution_count": 3,
   "metadata": {},
   "outputs": [],
   "source": [
    "from dataset import SendoDataset"
   ]
  },
  {
   "cell_type": "code",
   "execution_count": 24,
   "metadata": {},
   "outputs": [],
   "source": [
    "from mlp_rs_model import *"
   ]
  },
  {
   "cell_type": "code",
   "execution_count": 5,
   "metadata": {},
   "outputs": [
    {
     "name": "stdout",
     "output_type": "stream",
     "text": [
      "Data/sendo.data.train.rating\n",
      "num users:  799483  num items:  620650\n",
      "799483\n"
     ]
    }
   ],
   "source": [
    "full_dataset = SendoDataset('Data/sendo.data', num_negatives_train=4, num_negatives_test=100)"
   ]
  },
  {
   "cell_type": "code",
   "execution_count": 6,
   "metadata": {},
   "outputs": [],
   "source": [
    "model = torch.load('Pretrain/sendo.data_MLP_[16,32,16,8]_1570012303.h5')"
   ]
  },
  {
   "cell_type": "code",
   "execution_count": 7,
   "metadata": {},
   "outputs": [
    {
     "data": {
      "text/plain": [
       "MLP(\n",
       "  (user_embedding): Embedding(799484, 8)\n",
       "  (item_embedding): Embedding(620651, 8)\n",
       "  (fc_layers): ModuleList(\n",
       "    (0): Linear(in_features=16, out_features=32, bias=True)\n",
       "    (1): Linear(in_features=32, out_features=16, bias=True)\n",
       "    (2): Linear(in_features=16, out_features=8, bias=True)\n",
       "  )\n",
       "  (output_layer): Linear(in_features=8, out_features=1, bias=True)\n",
       ")"
      ]
     },
     "execution_count": 7,
     "metadata": {},
     "output_type": "execute_result"
    }
   ],
   "source": [
    "model.eval()"
   ]
  },
  {
   "cell_type": "code",
   "execution_count": 8,
   "metadata": {},
   "outputs": [],
   "source": [
    "_testRatings = full_dataset.testRatings\n",
    "_testNegatives = full_dataset.testNegatives\n",
    "_topk = 10"
   ]
  },
  {
   "cell_type": "code",
   "execution_count": 26,
   "metadata": {},
   "outputs": [],
   "source": [
    "def prediction(model,idx):\n",
    "    t = time()\n",
    "    rating = _testRatings[idx]\n",
    "    items = _testNegatives[idx]\n",
    "    u = rating[0]\n",
    "    gtItem = rating[1]\n",
    "    items.append(gtItem)\n",
    "    map_item_score = {}\n",
    "    users = np.full(len(items), u, dtype='int32')\n",
    "    feed_dict = {\n",
    "        'user_id': users,\n",
    "        'item_id': np.array(items),\n",
    "    }\n",
    "    predictions = model.predict(feed_dict)\n",
    "    for i in range(len(items)):\n",
    "        item = items[i]\n",
    "        map_item_score[item] = predictions[i]\n",
    "    ranklist = heapq.nlargest(_topk, map_item_score, key=map_item_score.get)\n",
    "    print('Time predict: ', time() - t, '(s)')\n",
    "    return ranklist"
   ]
  },
  {
   "cell_type": "code",
   "execution_count": 10,
   "metadata": {},
   "outputs": [],
   "source": [
    "def mapping (filename):\n",
    "    with open(filename, mode='r') as infile:\n",
    "        reader = csv.reader(infile)\n",
    "        mydict = {rows[0]:rows[1] for rows in reader}\n",
    "    return mydict"
   ]
  },
  {
   "cell_type": "code",
   "execution_count": 11,
   "metadata": {},
   "outputs": [],
   "source": [
    "map_user_id = mapping('Data/user_id_mapping')\n",
    "map_item_id = mapping('Data/item_id_mapping')"
   ]
  },
  {
   "cell_type": "code",
   "execution_count": 12,
   "metadata": {},
   "outputs": [],
   "source": [
    "with open('Data/product_name_mapping.json') as data_file:\n",
    "    product_name_mapping = json.load(data_file)"
   ]
  },
  {
   "cell_type": "code",
   "execution_count": 13,
   "metadata": {},
   "outputs": [],
   "source": [
    "df = pd.read_csv('Data/sendo-full-data.csv')"
   ]
  },
  {
   "cell_type": "code",
   "execution_count": 24,
   "metadata": {},
   "outputs": [
    {
     "data": {
      "text/html": [
       "<div>\n",
       "<style scoped>\n",
       "    .dataframe tbody tr th:only-of-type {\n",
       "        vertical-align: middle;\n",
       "    }\n",
       "\n",
       "    .dataframe tbody tr th {\n",
       "        vertical-align: top;\n",
       "    }\n",
       "\n",
       "    .dataframe thead th {\n",
       "        text-align: right;\n",
       "    }\n",
       "</style>\n",
       "<table border=\"1\" class=\"dataframe\">\n",
       "  <thead>\n",
       "    <tr style=\"text-align: right;\">\n",
       "      <th></th>\n",
       "      <th>time</th>\n",
       "      <th>user_id</th>\n",
       "      <th>product_id</th>\n",
       "      <th>belong_cate_lvl1_id</th>\n",
       "      <th>belong_cate_lvl2_id</th>\n",
       "      <th>belong_cate_lvl3_id</th>\n",
       "      <th>belong_cate_lvl1_name</th>\n",
       "      <th>belong_cate_lvl2_name</th>\n",
       "      <th>belong_cate_lvl3_name</th>\n",
       "      <th>href</th>\n",
       "    </tr>\n",
       "  </thead>\n",
       "  <tbody>\n",
       "    <tr>\n",
       "      <th>0</th>\n",
       "      <td>2016-03-31 00:00:00</td>\n",
       "      <td>7892FA71D8D1EAEBE438135718A5C420</td>\n",
       "      <td>2920660</td>\n",
       "      <td>8</td>\n",
       "      <td>9</td>\n",
       "      <td>11</td>\n",
       "      <td>Thời trang nữ</td>\n",
       "      <td>Áo nữ</td>\n",
       "      <td>Áo kiểu</td>\n",
       "      <td>https://www.sendo.vn/san-pham/ao-kieu-from-dai...</td>\n",
       "    </tr>\n",
       "    <tr>\n",
       "      <th>1</th>\n",
       "      <td>2016-03-31 00:00:06</td>\n",
       "      <td>2CEBC824EBEF1B52EA7562B716D020D8</td>\n",
       "      <td>1885579</td>\n",
       "      <td>1722</td>\n",
       "      <td>1726</td>\n",
       "      <td>1748</td>\n",
       "      <td>Túi xách</td>\n",
       "      <td>Túi xách nam</td>\n",
       "      <td>Túi đeo chéo nam</td>\n",
       "      <td>https://www.sendo.vn/san-pham/tui-deo-may-tinh...</td>\n",
       "    </tr>\n",
       "    <tr>\n",
       "      <th>2</th>\n",
       "      <td>2016-03-31 00:00:07</td>\n",
       "      <td>81ADFE4DC80154EAF829FC0CBADD71EA</td>\n",
       "      <td>2633702</td>\n",
       "      <td>8</td>\n",
       "      <td>52</td>\n",
       "      <td>53</td>\n",
       "      <td>Thời trang nữ</td>\n",
       "      <td>Đồ lót, đồ ngủ và đồ mặc nhà</td>\n",
       "      <td>Áo ngực</td>\n",
       "      <td>https://www.sendo.vn/san-pham/ao-nguc-7-kieu-c...</td>\n",
       "    </tr>\n",
       "    <tr>\n",
       "      <th>3</th>\n",
       "      <td>2016-03-31 00:00:13</td>\n",
       "      <td>F942D7B0377D64F1280EA7BB8DCC3A47</td>\n",
       "      <td>2936475</td>\n",
       "      <td>528</td>\n",
       "      <td>529</td>\n",
       "      <td>542</td>\n",
       "      <td>Phụ kiện công nghệ</td>\n",
       "      <td>Phụ kiện Điện thoại</td>\n",
       "      <td>Phụ kiện khác</td>\n",
       "      <td>https://www.sendo.vn/san-pham/kinh-thuc-te-ao-...</td>\n",
       "    </tr>\n",
       "    <tr>\n",
       "      <th>4</th>\n",
       "      <td>2016-03-31 00:00:16</td>\n",
       "      <td>C8BFABB5F293BC9890124E192FBFC898</td>\n",
       "      <td>2146364</td>\n",
       "      <td>8</td>\n",
       "      <td>52</td>\n",
       "      <td>56</td>\n",
       "      <td>Thời trang nữ</td>\n",
       "      <td>Đồ lót, đồ ngủ và đồ mặc nhà</td>\n",
       "      <td>Đồ lót bộ</td>\n",
       "      <td>https://www.sendo.vn/san-pham/set-ao-yem-quan-...</td>\n",
       "    </tr>\n",
       "  </tbody>\n",
       "</table>\n",
       "</div>"
      ],
      "text/plain": [
       "                  time                           user_id  product_id  \\\n",
       "0  2016-03-31 00:00:00  7892FA71D8D1EAEBE438135718A5C420     2920660   \n",
       "1  2016-03-31 00:00:06  2CEBC824EBEF1B52EA7562B716D020D8     1885579   \n",
       "2  2016-03-31 00:00:07  81ADFE4DC80154EAF829FC0CBADD71EA     2633702   \n",
       "3  2016-03-31 00:00:13  F942D7B0377D64F1280EA7BB8DCC3A47     2936475   \n",
       "4  2016-03-31 00:00:16  C8BFABB5F293BC9890124E192FBFC898     2146364   \n",
       "\n",
       "   belong_cate_lvl1_id  belong_cate_lvl2_id  belong_cate_lvl3_id  \\\n",
       "0                    8                    9                   11   \n",
       "1                 1722                 1726                 1748   \n",
       "2                    8                   52                   53   \n",
       "3                  528                  529                  542   \n",
       "4                    8                   52                   56   \n",
       "\n",
       "  belong_cate_lvl1_name         belong_cate_lvl2_name belong_cate_lvl3_name  \\\n",
       "0         Thời trang nữ                         Áo nữ               Áo kiểu   \n",
       "1              Túi xách                  Túi xách nam      Túi đeo chéo nam   \n",
       "2         Thời trang nữ  Đồ lót, đồ ngủ và đồ mặc nhà               Áo ngực   \n",
       "3    Phụ kiện công nghệ           Phụ kiện Điện thoại         Phụ kiện khác   \n",
       "4         Thời trang nữ  Đồ lót, đồ ngủ và đồ mặc nhà             Đồ lót bộ   \n",
       "\n",
       "                                                href  \n",
       "0  https://www.sendo.vn/san-pham/ao-kieu-from-dai...  \n",
       "1  https://www.sendo.vn/san-pham/tui-deo-may-tinh...  \n",
       "2  https://www.sendo.vn/san-pham/ao-nguc-7-kieu-c...  \n",
       "3  https://www.sendo.vn/san-pham/kinh-thuc-te-ao-...  \n",
       "4  https://www.sendo.vn/san-pham/set-ao-yem-quan-...  "
      ]
     },
     "execution_count": 24,
     "metadata": {},
     "output_type": "execute_result"
    }
   ],
   "source": [
    "df.head()"
   ]
  },
  {
   "cell_type": "code",
   "execution_count": 14,
   "metadata": {},
   "outputs": [],
   "source": [
    "i_id = df['product_id']\n",
    "href = df['href']"
   ]
  },
  {
   "cell_type": "code",
   "execution_count": 15,
   "metadata": {},
   "outputs": [],
   "source": [
    "product_link_map = {}\n",
    "for index in range(len(i_id)):\n",
    "    product_link_map[i_id[index]] = href[index]"
   ]
  },
  {
   "cell_type": "code",
   "execution_count": 25,
   "metadata": {
    "scrolled": true
   },
   "outputs": [
    {
     "data": {
      "text/plain": [
       "[523454, 150274, 526332, 77915, 577994, 210540, 524976, 511259, 166683, 387738]"
      ]
     },
     "execution_count": 25,
     "metadata": {},
     "output_type": "execute_result"
    }
   ],
   "source": [
    "prediction(model,1000)"
   ]
  },
  {
   "cell_type": "code",
   "execution_count": 17,
   "metadata": {},
   "outputs": [],
   "source": [
    "def get_output():\n",
    "    uid = 1001\n",
    "    lst = prediction(model,uid)\n",
    "    lst_out= {}\n",
    "    lst_out[map_user_id[str(uid)]] = []\n",
    "    for i_item in lst:\n",
    "        key = str(i_item)\n",
    "        iid = map_item_id[key]\n",
    "        \n",
    "        out_dict = {'id': iid,'name' : product_name_mapping[iid], 'link': product_link_map[int(iid)]}\n",
    "        lst_out[map_user_id[str(uid)]].append(out_dict)\n",
    "    print(lst_out)\n",
    "    with open('output.json', 'w') as outfile:\n",
    "        json.dump(lst_out, outfile)"
   ]
  },
  {
   "cell_type": "code",
   "execution_count": 27,
   "metadata": {
    "scrolled": true
   },
   "outputs": [
    {
     "name": "stdout",
     "output_type": "stream",
     "text": [
      "Time predict:  0.2907602787017822 (s)\n"
     ]
    }
   ],
   "source": [
    "get_output()"
   ]
  }
 ],
 "metadata": {
  "kernelspec": {
   "display_name": "Python 3",
   "language": "python",
   "name": "python3"
  },
  "language_info": {
   "codemirror_mode": {
    "name": "ipython",
    "version": 3
   },
   "file_extension": ".py",
   "mimetype": "text/x-python",
   "name": "python",
   "nbconvert_exporter": "python",
   "pygments_lexer": "ipython3",
   "version": "3.7.3"
  }
 },
 "nbformat": 4,
 "nbformat_minor": 2
}
