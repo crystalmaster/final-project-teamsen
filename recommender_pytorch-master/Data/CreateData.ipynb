{
 "cells": [
  {
   "cell_type": "code",
   "execution_count": 1,
   "metadata": {},
   "outputs": [],
   "source": [
    "import pandas as pd\n",
    "import time\n",
    "from datetime import datetime"
   ]
  },
  {
   "cell_type": "code",
   "execution_count": 2,
   "metadata": {
    "scrolled": false
   },
   "outputs": [
    {
     "data": {
      "text/html": [
       "<div>\n",
       "<style scoped>\n",
       "    .dataframe tbody tr th:only-of-type {\n",
       "        vertical-align: middle;\n",
       "    }\n",
       "\n",
       "    .dataframe tbody tr th {\n",
       "        vertical-align: top;\n",
       "    }\n",
       "\n",
       "    .dataframe thead th {\n",
       "        text-align: right;\n",
       "    }\n",
       "</style>\n",
       "<table border=\"1\" class=\"dataframe\">\n",
       "  <thead>\n",
       "    <tr style=\"text-align: right;\">\n",
       "      <th></th>\n",
       "      <th>user_id</th>\n",
       "      <th>product_id</th>\n",
       "      <th>rating</th>\n",
       "      <th>time</th>\n",
       "    </tr>\n",
       "  </thead>\n",
       "  <tbody>\n",
       "    <tr>\n",
       "      <th>0</th>\n",
       "      <td>7892FA71D8D1EAEBE438135718A5C420</td>\n",
       "      <td>2920660</td>\n",
       "      <td>1</td>\n",
       "      <td>2016-03-31 00:00:00</td>\n",
       "    </tr>\n",
       "    <tr>\n",
       "      <th>1</th>\n",
       "      <td>2CEBC824EBEF1B52EA7562B716D020D8</td>\n",
       "      <td>1885579</td>\n",
       "      <td>1</td>\n",
       "      <td>2016-03-31 00:00:06</td>\n",
       "    </tr>\n",
       "    <tr>\n",
       "      <th>2</th>\n",
       "      <td>81ADFE4DC80154EAF829FC0CBADD71EA</td>\n",
       "      <td>2633702</td>\n",
       "      <td>1</td>\n",
       "      <td>2016-03-31 00:00:07</td>\n",
       "    </tr>\n",
       "    <tr>\n",
       "      <th>3</th>\n",
       "      <td>F942D7B0377D64F1280EA7BB8DCC3A47</td>\n",
       "      <td>2936475</td>\n",
       "      <td>1</td>\n",
       "      <td>2016-03-31 00:00:13</td>\n",
       "    </tr>\n",
       "    <tr>\n",
       "      <th>4</th>\n",
       "      <td>C8BFABB5F293BC9890124E192FBFC898</td>\n",
       "      <td>2146364</td>\n",
       "      <td>1</td>\n",
       "      <td>2016-03-31 00:00:16</td>\n",
       "    </tr>\n",
       "  </tbody>\n",
       "</table>\n",
       "</div>"
      ],
      "text/plain": [
       "                            user_id  product_id  rating                 time\n",
       "0  7892FA71D8D1EAEBE438135718A5C420     2920660       1  2016-03-31 00:00:00\n",
       "1  2CEBC824EBEF1B52EA7562B716D020D8     1885579       1  2016-03-31 00:00:06\n",
       "2  81ADFE4DC80154EAF829FC0CBADD71EA     2633702       1  2016-03-31 00:00:07\n",
       "3  F942D7B0377D64F1280EA7BB8DCC3A47     2936475       1  2016-03-31 00:00:13\n",
       "4  C8BFABB5F293BC9890124E192FBFC898     2146364       1  2016-03-31 00:00:16"
      ]
     },
     "execution_count": 2,
     "metadata": {},
     "output_type": "execute_result"
    }
   ],
   "source": [
    "df = pd.read_csv('data.csv')\n",
    "df.head()"
   ]
  },
  {
   "cell_type": "code",
   "execution_count": 3,
   "metadata": {},
   "outputs": [],
   "source": [
    "def convert_date(x):\n",
    "    cur = datetime.strptime(x, '%Y-%m-%d %H:%M:%S')\n",
    "    return int(time.mktime(cur.timetuple()))"
   ]
  },
  {
   "cell_type": "code",
   "execution_count": 4,
   "metadata": {},
   "outputs": [],
   "source": [
    "df['time'] = df['time'].apply(lambda x : convert_date(x))"
   ]
  },
  {
   "cell_type": "code",
   "execution_count": 5,
   "metadata": {},
   "outputs": [],
   "source": [
    "user_id_list = df['user_id'].unique()\n",
    "item_id_list = df['product_id'].unique()"
   ]
  },
  {
   "cell_type": "code",
   "execution_count": 6,
   "metadata": {},
   "outputs": [],
   "source": [
    "item_id_list.sort()"
   ]
  },
  {
   "cell_type": "code",
   "execution_count": 7,
   "metadata": {},
   "outputs": [],
   "source": [
    "map_item_dic = {}\n",
    "for index in range(len(item_id_list)):\n",
    "    map_item_dic[index] = item_id_list[index]\n"
   ]
  },
  {
   "cell_type": "code",
   "execution_count": 8,
   "metadata": {},
   "outputs": [],
   "source": [
    "with open('p_id', 'w') as f:\n",
    "    for key in map_item_dic.keys():\n",
    "        f.write(\"%s,%s\\n\"%(key,map_item_dic[key]))"
   ]
  },
  {
   "cell_type": "code",
   "execution_count": 9,
   "metadata": {},
   "outputs": [],
   "source": [
    "map_user_dic = {}\n",
    "for index in range(len(user_id_list)):\n",
    "    map_user_dic[index] = user_id_list[index]\n"
   ]
  },
  {
   "cell_type": "code",
   "execution_count": 10,
   "metadata": {},
   "outputs": [],
   "source": [
    "with open('user_id', 'w') as f:\n",
    "    for key in map_user_dic.keys():\n",
    "        f.write(\"%s,%s\\n\"%(key,map_user_dic[key]))"
   ]
  },
  {
   "cell_type": "code",
   "execution_count": 13,
   "metadata": {},
   "outputs": [],
   "source": [
    "map_user_dic_encode = {}\n",
    "for key in map_user_dic.keys():\n",
    "    map_user_dic_encode[map_user_dic[key]] = key"
   ]
  },
  {
   "cell_type": "code",
   "execution_count": 15,
   "metadata": {},
   "outputs": [],
   "source": [
    "map_item_dic_encode = {}\n",
    "for key in map_item_dic.keys():\n",
    "    map_item_dic_encode[map_item_dic[key]] = key"
   ]
  },
  {
   "cell_type": "code",
   "execution_count": 17,
   "metadata": {},
   "outputs": [],
   "source": [
    "def conver_uid(x):\n",
    "    return map_user_dic_encode[x]\n",
    "def conver_item(x):\n",
    "    return map_item_dic_encode[x]"
   ]
  },
  {
   "cell_type": "code",
   "execution_count": 18,
   "metadata": {},
   "outputs": [],
   "source": [
    "df['user_id'] = df['user_id'].apply(lambda x: conver_uid(x))\n",
    "df['product_id'] = df['product_id'].apply(lambda x: conver_item(x))"
   ]
  },
  {
   "cell_type": "code",
   "execution_count": 19,
   "metadata": {},
   "outputs": [
    {
     "data": {
      "text/html": [
       "<div>\n",
       "<style scoped>\n",
       "    .dataframe tbody tr th:only-of-type {\n",
       "        vertical-align: middle;\n",
       "    }\n",
       "\n",
       "    .dataframe tbody tr th {\n",
       "        vertical-align: top;\n",
       "    }\n",
       "\n",
       "    .dataframe thead th {\n",
       "        text-align: right;\n",
       "    }\n",
       "</style>\n",
       "<table border=\"1\" class=\"dataframe\">\n",
       "  <thead>\n",
       "    <tr style=\"text-align: right;\">\n",
       "      <th></th>\n",
       "      <th>user_id</th>\n",
       "      <th>product_id</th>\n",
       "      <th>rating</th>\n",
       "      <th>time</th>\n",
       "    </tr>\n",
       "  </thead>\n",
       "  <tbody>\n",
       "    <tr>\n",
       "      <th>0</th>\n",
       "      <td>0</td>\n",
       "      <td>363742</td>\n",
       "      <td>1</td>\n",
       "      <td>1459357200</td>\n",
       "    </tr>\n",
       "    <tr>\n",
       "      <th>1</th>\n",
       "      <td>1</td>\n",
       "      <td>78607</td>\n",
       "      <td>1</td>\n",
       "      <td>1459357206</td>\n",
       "    </tr>\n",
       "    <tr>\n",
       "      <th>2</th>\n",
       "      <td>2</td>\n",
       "      <td>244637</td>\n",
       "      <td>1</td>\n",
       "      <td>1459357207</td>\n",
       "    </tr>\n",
       "    <tr>\n",
       "      <th>3</th>\n",
       "      <td>3</td>\n",
       "      <td>373469</td>\n",
       "      <td>1</td>\n",
       "      <td>1459357213</td>\n",
       "    </tr>\n",
       "    <tr>\n",
       "      <th>4</th>\n",
       "      <td>4</td>\n",
       "      <td>124321</td>\n",
       "      <td>1</td>\n",
       "      <td>1459357216</td>\n",
       "    </tr>\n",
       "  </tbody>\n",
       "</table>\n",
       "</div>"
      ],
      "text/plain": [
       "   user_id  product_id  rating        time\n",
       "0        0      363742       1  1459357200\n",
       "1        1       78607       1  1459357206\n",
       "2        2      244637       1  1459357207\n",
       "3        3      373469       1  1459357213\n",
       "4        4      124321       1  1459357216"
      ]
     },
     "execution_count": 19,
     "metadata": {},
     "output_type": "execute_result"
    }
   ],
   "source": [
    "df.head()"
   ]
  },
  {
   "cell_type": "code",
   "execution_count": 20,
   "metadata": {},
   "outputs": [],
   "source": [
    "df.to_csv('sendo.data', header = False, index = False, sep = '\\t')"
   ]
  },
  {
   "cell_type": "code",
   "execution_count": 22,
   "metadata": {},
   "outputs": [
    {
     "name": "stdout",
     "output_type": "stream",
     "text": [
      "<class 'pandas.core.frame.DataFrame'>\n",
      "RangeIndex: 5148733 entries, 0 to 5148732\n",
      "Data columns (total 4 columns):\n",
      "user_id       int64\n",
      "product_id    int64\n",
      "rating        int64\n",
      "time          int64\n",
      "dtypes: int64(4)\n",
      "memory usage: 157.1 MB\n"
     ]
    }
   ],
   "source": [
    "df.info()"
   ]
  }
 ],
 "metadata": {
  "kernelspec": {
   "display_name": "Python 3",
   "language": "python",
   "name": "python3"
  },
  "language_info": {
   "codemirror_mode": {
    "name": "ipython",
    "version": 3
   },
   "file_extension": ".py",
   "mimetype": "text/x-python",
   "name": "python",
   "nbconvert_exporter": "python",
   "pygments_lexer": "ipython3",
   "version": "3.7.3"
  }
 },
 "nbformat": 4,
 "nbformat_minor": 2
}
