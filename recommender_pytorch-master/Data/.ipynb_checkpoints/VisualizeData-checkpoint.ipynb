{
 "cells": [
  {
   "cell_type": "code",
   "execution_count": 2,
   "metadata": {},
   "outputs": [],
   "source": [
    "import pandas as pd"
   ]
  },
  {
   "cell_type": "code",
   "execution_count": 4,
   "metadata": {},
   "outputs": [],
   "source": [
    "df = pd.read_csv('sendo-data.csv')"
   ]
  },
  {
   "cell_type": "code",
   "execution_count": 5,
   "metadata": {},
   "outputs": [
    {
     "data": {
      "text/html": [
       "<div>\n",
       "<style scoped>\n",
       "    .dataframe tbody tr th:only-of-type {\n",
       "        vertical-align: middle;\n",
       "    }\n",
       "\n",
       "    .dataframe tbody tr th {\n",
       "        vertical-align: top;\n",
       "    }\n",
       "\n",
       "    .dataframe thead th {\n",
       "        text-align: right;\n",
       "    }\n",
       "</style>\n",
       "<table border=\"1\" class=\"dataframe\">\n",
       "  <thead>\n",
       "    <tr style=\"text-align: right;\">\n",
       "      <th></th>\n",
       "      <th>time</th>\n",
       "      <th>user_id</th>\n",
       "      <th>product_id</th>\n",
       "      <th>belong_cate_lvl1_id</th>\n",
       "      <th>belong_cate_lvl2_id</th>\n",
       "      <th>belong_cate_lvl3_id</th>\n",
       "      <th>belong_cate_lvl1_name</th>\n",
       "      <th>belong_cate_lvl2_name</th>\n",
       "      <th>belong_cate_lvl3_name</th>\n",
       "      <th>href</th>\n",
       "    </tr>\n",
       "  </thead>\n",
       "  <tbody>\n",
       "    <tr>\n",
       "      <th>0</th>\n",
       "      <td>2016-03-31 00:00:00</td>\n",
       "      <td>7892FA71D8D1EAEBE438135718A5C420</td>\n",
       "      <td>2920660</td>\n",
       "      <td>8</td>\n",
       "      <td>9</td>\n",
       "      <td>11</td>\n",
       "      <td>Thời trang nữ</td>\n",
       "      <td>Áo nữ</td>\n",
       "      <td>Áo kiểu</td>\n",
       "      <td>https://www.sendo.vn/san-pham/ao-kieu-from-dai...</td>\n",
       "    </tr>\n",
       "    <tr>\n",
       "      <th>1</th>\n",
       "      <td>2016-03-31 00:00:06</td>\n",
       "      <td>2CEBC824EBEF1B52EA7562B716D020D8</td>\n",
       "      <td>1885579</td>\n",
       "      <td>1722</td>\n",
       "      <td>1726</td>\n",
       "      <td>1748</td>\n",
       "      <td>Túi xách</td>\n",
       "      <td>Túi xách nam</td>\n",
       "      <td>Túi đeo chéo nam</td>\n",
       "      <td>https://www.sendo.vn/san-pham/tui-deo-may-tinh...</td>\n",
       "    </tr>\n",
       "    <tr>\n",
       "      <th>2</th>\n",
       "      <td>2016-03-31 00:00:07</td>\n",
       "      <td>81ADFE4DC80154EAF829FC0CBADD71EA</td>\n",
       "      <td>2633702</td>\n",
       "      <td>8</td>\n",
       "      <td>52</td>\n",
       "      <td>53</td>\n",
       "      <td>Thời trang nữ</td>\n",
       "      <td>Đồ lót, đồ ngủ và đồ mặc nhà</td>\n",
       "      <td>Áo ngực</td>\n",
       "      <td>https://www.sendo.vn/san-pham/ao-nguc-7-kieu-c...</td>\n",
       "    </tr>\n",
       "    <tr>\n",
       "      <th>3</th>\n",
       "      <td>2016-03-31 00:00:13</td>\n",
       "      <td>F942D7B0377D64F1280EA7BB8DCC3A47</td>\n",
       "      <td>2936475</td>\n",
       "      <td>528</td>\n",
       "      <td>529</td>\n",
       "      <td>542</td>\n",
       "      <td>Phụ kiện công nghệ</td>\n",
       "      <td>Phụ kiện Điện thoại</td>\n",
       "      <td>Phụ kiện khác</td>\n",
       "      <td>https://www.sendo.vn/san-pham/kinh-thuc-te-ao-...</td>\n",
       "    </tr>\n",
       "    <tr>\n",
       "      <th>4</th>\n",
       "      <td>2016-03-31 00:00:16</td>\n",
       "      <td>C8BFABB5F293BC9890124E192FBFC898</td>\n",
       "      <td>2146364</td>\n",
       "      <td>8</td>\n",
       "      <td>52</td>\n",
       "      <td>56</td>\n",
       "      <td>Thời trang nữ</td>\n",
       "      <td>Đồ lót, đồ ngủ và đồ mặc nhà</td>\n",
       "      <td>Đồ lót bộ</td>\n",
       "      <td>https://www.sendo.vn/san-pham/set-ao-yem-quan-...</td>\n",
       "    </tr>\n",
       "  </tbody>\n",
       "</table>\n",
       "</div>"
      ],
      "text/plain": [
       "                  time                           user_id  product_id  \\\n",
       "0  2016-03-31 00:00:00  7892FA71D8D1EAEBE438135718A5C420     2920660   \n",
       "1  2016-03-31 00:00:06  2CEBC824EBEF1B52EA7562B716D020D8     1885579   \n",
       "2  2016-03-31 00:00:07  81ADFE4DC80154EAF829FC0CBADD71EA     2633702   \n",
       "3  2016-03-31 00:00:13  F942D7B0377D64F1280EA7BB8DCC3A47     2936475   \n",
       "4  2016-03-31 00:00:16  C8BFABB5F293BC9890124E192FBFC898     2146364   \n",
       "\n",
       "   belong_cate_lvl1_id  belong_cate_lvl2_id  belong_cate_lvl3_id  \\\n",
       "0                    8                    9                   11   \n",
       "1                 1722                 1726                 1748   \n",
       "2                    8                   52                   53   \n",
       "3                  528                  529                  542   \n",
       "4                    8                   52                   56   \n",
       "\n",
       "  belong_cate_lvl1_name         belong_cate_lvl2_name belong_cate_lvl3_name  \\\n",
       "0         Thời trang nữ                         Áo nữ               Áo kiểu   \n",
       "1              Túi xách                  Túi xách nam      Túi đeo chéo nam   \n",
       "2         Thời trang nữ  Đồ lót, đồ ngủ và đồ mặc nhà               Áo ngực   \n",
       "3    Phụ kiện công nghệ           Phụ kiện Điện thoại         Phụ kiện khác   \n",
       "4         Thời trang nữ  Đồ lót, đồ ngủ và đồ mặc nhà             Đồ lót bộ   \n",
       "\n",
       "                                                href  \n",
       "0  https://www.sendo.vn/san-pham/ao-kieu-from-dai...  \n",
       "1  https://www.sendo.vn/san-pham/tui-deo-may-tinh...  \n",
       "2  https://www.sendo.vn/san-pham/ao-nguc-7-kieu-c...  \n",
       "3  https://www.sendo.vn/san-pham/kinh-thuc-te-ao-...  \n",
       "4  https://www.sendo.vn/san-pham/set-ao-yem-quan-...  "
      ]
     },
     "execution_count": 5,
     "metadata": {},
     "output_type": "execute_result"
    }
   ],
   "source": [
    "df.head()"
   ]
  },
  {
   "cell_type": "code",
   "execution_count": 8,
   "metadata": {},
   "outputs": [],
   "source": [
    "data = df.drop(['belong_cate_lvl1_id','belong_cate_lvl2_id','belong_cate_lvl3_id','belong_cate_lvl1_name','belong_cate_lvl2_name','belong_cate_lvl3_name','href'],axis = 1)"
   ]
  },
  {
   "cell_type": "code",
   "execution_count": 9,
   "metadata": {},
   "outputs": [
    {
     "data": {
      "text/html": [
       "<div>\n",
       "<style scoped>\n",
       "    .dataframe tbody tr th:only-of-type {\n",
       "        vertical-align: middle;\n",
       "    }\n",
       "\n",
       "    .dataframe tbody tr th {\n",
       "        vertical-align: top;\n",
       "    }\n",
       "\n",
       "    .dataframe thead th {\n",
       "        text-align: right;\n",
       "    }\n",
       "</style>\n",
       "<table border=\"1\" class=\"dataframe\">\n",
       "  <thead>\n",
       "    <tr style=\"text-align: right;\">\n",
       "      <th></th>\n",
       "      <th>time</th>\n",
       "      <th>user_id</th>\n",
       "      <th>product_id</th>\n",
       "    </tr>\n",
       "  </thead>\n",
       "  <tbody>\n",
       "    <tr>\n",
       "      <th>0</th>\n",
       "      <td>2016-03-31 00:00:00</td>\n",
       "      <td>7892FA71D8D1EAEBE438135718A5C420</td>\n",
       "      <td>2920660</td>\n",
       "    </tr>\n",
       "    <tr>\n",
       "      <th>1</th>\n",
       "      <td>2016-03-31 00:00:06</td>\n",
       "      <td>2CEBC824EBEF1B52EA7562B716D020D8</td>\n",
       "      <td>1885579</td>\n",
       "    </tr>\n",
       "    <tr>\n",
       "      <th>2</th>\n",
       "      <td>2016-03-31 00:00:07</td>\n",
       "      <td>81ADFE4DC80154EAF829FC0CBADD71EA</td>\n",
       "      <td>2633702</td>\n",
       "    </tr>\n",
       "    <tr>\n",
       "      <th>3</th>\n",
       "      <td>2016-03-31 00:00:13</td>\n",
       "      <td>F942D7B0377D64F1280EA7BB8DCC3A47</td>\n",
       "      <td>2936475</td>\n",
       "    </tr>\n",
       "    <tr>\n",
       "      <th>4</th>\n",
       "      <td>2016-03-31 00:00:16</td>\n",
       "      <td>C8BFABB5F293BC9890124E192FBFC898</td>\n",
       "      <td>2146364</td>\n",
       "    </tr>\n",
       "  </tbody>\n",
       "</table>\n",
       "</div>"
      ],
      "text/plain": [
       "                  time                           user_id  product_id\n",
       "0  2016-03-31 00:00:00  7892FA71D8D1EAEBE438135718A5C420     2920660\n",
       "1  2016-03-31 00:00:06  2CEBC824EBEF1B52EA7562B716D020D8     1885579\n",
       "2  2016-03-31 00:00:07  81ADFE4DC80154EAF829FC0CBADD71EA     2633702\n",
       "3  2016-03-31 00:00:13  F942D7B0377D64F1280EA7BB8DCC3A47     2936475\n",
       "4  2016-03-31 00:00:16  C8BFABB5F293BC9890124E192FBFC898     2146364"
      ]
     },
     "execution_count": 9,
     "metadata": {},
     "output_type": "execute_result"
    }
   ],
   "source": [
    "data.head()"
   ]
  },
  {
   "cell_type": "code",
   "execution_count": 10,
   "metadata": {},
   "outputs": [],
   "source": [
    "data = data.drop_duplicates(['user_id','product_id'],keep='first')"
   ]
  },
  {
   "cell_type": "code",
   "execution_count": 11,
   "metadata": {},
   "outputs": [
    {
     "name": "stdout",
     "output_type": "stream",
     "text": [
      "<class 'pandas.core.frame.DataFrame'>\n",
      "Int64Index: 5148733 entries, 0 to 7104102\n",
      "Data columns (total 3 columns):\n",
      "time          object\n",
      "user_id       object\n",
      "product_id    int64\n",
      "dtypes: int64(1), object(2)\n",
      "memory usage: 157.1+ MB\n"
     ]
    }
   ],
   "source": [
    "data.info()"
   ]
  },
  {
   "cell_type": "code",
   "execution_count": 13,
   "metadata": {},
   "outputs": [],
   "source": [
    "data.to_csv('data.csv',index=False)"
   ]
  },
  {
   "cell_type": "code",
   "execution_count": 3,
   "metadata": {},
   "outputs": [],
   "source": [
    "test = pd.read_csv('data.csv')"
   ]
  },
  {
   "cell_type": "code",
   "execution_count": 4,
   "metadata": {},
   "outputs": [
    {
     "data": {
      "text/html": [
       "<div>\n",
       "<style scoped>\n",
       "    .dataframe tbody tr th:only-of-type {\n",
       "        vertical-align: middle;\n",
       "    }\n",
       "\n",
       "    .dataframe tbody tr th {\n",
       "        vertical-align: top;\n",
       "    }\n",
       "\n",
       "    .dataframe thead th {\n",
       "        text-align: right;\n",
       "    }\n",
       "</style>\n",
       "<table border=\"1\" class=\"dataframe\">\n",
       "  <thead>\n",
       "    <tr style=\"text-align: right;\">\n",
       "      <th></th>\n",
       "      <th>time</th>\n",
       "      <th>user_id</th>\n",
       "      <th>product_id</th>\n",
       "    </tr>\n",
       "  </thead>\n",
       "  <tbody>\n",
       "    <tr>\n",
       "      <th>0</th>\n",
       "      <td>2016-03-31 00:00:00</td>\n",
       "      <td>7892FA71D8D1EAEBE438135718A5C420</td>\n",
       "      <td>2920660</td>\n",
       "    </tr>\n",
       "    <tr>\n",
       "      <th>1</th>\n",
       "      <td>2016-03-31 00:00:06</td>\n",
       "      <td>2CEBC824EBEF1B52EA7562B716D020D8</td>\n",
       "      <td>1885579</td>\n",
       "    </tr>\n",
       "    <tr>\n",
       "      <th>2</th>\n",
       "      <td>2016-03-31 00:00:07</td>\n",
       "      <td>81ADFE4DC80154EAF829FC0CBADD71EA</td>\n",
       "      <td>2633702</td>\n",
       "    </tr>\n",
       "    <tr>\n",
       "      <th>3</th>\n",
       "      <td>2016-03-31 00:00:13</td>\n",
       "      <td>F942D7B0377D64F1280EA7BB8DCC3A47</td>\n",
       "      <td>2936475</td>\n",
       "    </tr>\n",
       "    <tr>\n",
       "      <th>4</th>\n",
       "      <td>2016-03-31 00:00:16</td>\n",
       "      <td>C8BFABB5F293BC9890124E192FBFC898</td>\n",
       "      <td>2146364</td>\n",
       "    </tr>\n",
       "  </tbody>\n",
       "</table>\n",
       "</div>"
      ],
      "text/plain": [
       "                  time                           user_id  product_id\n",
       "0  2016-03-31 00:00:00  7892FA71D8D1EAEBE438135718A5C420     2920660\n",
       "1  2016-03-31 00:00:06  2CEBC824EBEF1B52EA7562B716D020D8     1885579\n",
       "2  2016-03-31 00:00:07  81ADFE4DC80154EAF829FC0CBADD71EA     2633702\n",
       "3  2016-03-31 00:00:13  F942D7B0377D64F1280EA7BB8DCC3A47     2936475\n",
       "4  2016-03-31 00:00:16  C8BFABB5F293BC9890124E192FBFC898     2146364"
      ]
     },
     "execution_count": 4,
     "metadata": {},
     "output_type": "execute_result"
    }
   ],
   "source": [
    "test.head()"
   ]
  },
  {
   "cell_type": "code",
   "execution_count": 5,
   "metadata": {},
   "outputs": [],
   "source": [
    "test['rating'] = 1"
   ]
  },
  {
   "cell_type": "code",
   "execution_count": 6,
   "metadata": {},
   "outputs": [
    {
     "data": {
      "text/html": [
       "<div>\n",
       "<style scoped>\n",
       "    .dataframe tbody tr th:only-of-type {\n",
       "        vertical-align: middle;\n",
       "    }\n",
       "\n",
       "    .dataframe tbody tr th {\n",
       "        vertical-align: top;\n",
       "    }\n",
       "\n",
       "    .dataframe thead th {\n",
       "        text-align: right;\n",
       "    }\n",
       "</style>\n",
       "<table border=\"1\" class=\"dataframe\">\n",
       "  <thead>\n",
       "    <tr style=\"text-align: right;\">\n",
       "      <th></th>\n",
       "      <th>time</th>\n",
       "      <th>user_id</th>\n",
       "      <th>product_id</th>\n",
       "      <th>rating</th>\n",
       "    </tr>\n",
       "  </thead>\n",
       "  <tbody>\n",
       "    <tr>\n",
       "      <th>0</th>\n",
       "      <td>2016-03-31 00:00:00</td>\n",
       "      <td>7892FA71D8D1EAEBE438135718A5C420</td>\n",
       "      <td>2920660</td>\n",
       "      <td>1</td>\n",
       "    </tr>\n",
       "    <tr>\n",
       "      <th>1</th>\n",
       "      <td>2016-03-31 00:00:06</td>\n",
       "      <td>2CEBC824EBEF1B52EA7562B716D020D8</td>\n",
       "      <td>1885579</td>\n",
       "      <td>1</td>\n",
       "    </tr>\n",
       "    <tr>\n",
       "      <th>2</th>\n",
       "      <td>2016-03-31 00:00:07</td>\n",
       "      <td>81ADFE4DC80154EAF829FC0CBADD71EA</td>\n",
       "      <td>2633702</td>\n",
       "      <td>1</td>\n",
       "    </tr>\n",
       "    <tr>\n",
       "      <th>3</th>\n",
       "      <td>2016-03-31 00:00:13</td>\n",
       "      <td>F942D7B0377D64F1280EA7BB8DCC3A47</td>\n",
       "      <td>2936475</td>\n",
       "      <td>1</td>\n",
       "    </tr>\n",
       "    <tr>\n",
       "      <th>4</th>\n",
       "      <td>2016-03-31 00:00:16</td>\n",
       "      <td>C8BFABB5F293BC9890124E192FBFC898</td>\n",
       "      <td>2146364</td>\n",
       "      <td>1</td>\n",
       "    </tr>\n",
       "  </tbody>\n",
       "</table>\n",
       "</div>"
      ],
      "text/plain": [
       "                  time                           user_id  product_id  rating\n",
       "0  2016-03-31 00:00:00  7892FA71D8D1EAEBE438135718A5C420     2920660       1\n",
       "1  2016-03-31 00:00:06  2CEBC824EBEF1B52EA7562B716D020D8     1885579       1\n",
       "2  2016-03-31 00:00:07  81ADFE4DC80154EAF829FC0CBADD71EA     2633702       1\n",
       "3  2016-03-31 00:00:13  F942D7B0377D64F1280EA7BB8DCC3A47     2936475       1\n",
       "4  2016-03-31 00:00:16  C8BFABB5F293BC9890124E192FBFC898     2146364       1"
      ]
     },
     "execution_count": 6,
     "metadata": {},
     "output_type": "execute_result"
    }
   ],
   "source": [
    "test.head()"
   ]
  },
  {
   "cell_type": "code",
   "execution_count": 7,
   "metadata": {},
   "outputs": [],
   "source": [
    "x = test['time']"
   ]
  },
  {
   "cell_type": "code",
   "execution_count": 10,
   "metadata": {},
   "outputs": [],
   "source": [
    "test = test.drop('time',axis = 1)"
   ]
  },
  {
   "cell_type": "code",
   "execution_count": 11,
   "metadata": {},
   "outputs": [
    {
     "data": {
      "text/html": [
       "<div>\n",
       "<style scoped>\n",
       "    .dataframe tbody tr th:only-of-type {\n",
       "        vertical-align: middle;\n",
       "    }\n",
       "\n",
       "    .dataframe tbody tr th {\n",
       "        vertical-align: top;\n",
       "    }\n",
       "\n",
       "    .dataframe thead th {\n",
       "        text-align: right;\n",
       "    }\n",
       "</style>\n",
       "<table border=\"1\" class=\"dataframe\">\n",
       "  <thead>\n",
       "    <tr style=\"text-align: right;\">\n",
       "      <th></th>\n",
       "      <th>user_id</th>\n",
       "      <th>product_id</th>\n",
       "      <th>rating</th>\n",
       "    </tr>\n",
       "  </thead>\n",
       "  <tbody>\n",
       "    <tr>\n",
       "      <th>0</th>\n",
       "      <td>7892FA71D8D1EAEBE438135718A5C420</td>\n",
       "      <td>2920660</td>\n",
       "      <td>1</td>\n",
       "    </tr>\n",
       "    <tr>\n",
       "      <th>1</th>\n",
       "      <td>2CEBC824EBEF1B52EA7562B716D020D8</td>\n",
       "      <td>1885579</td>\n",
       "      <td>1</td>\n",
       "    </tr>\n",
       "    <tr>\n",
       "      <th>2</th>\n",
       "      <td>81ADFE4DC80154EAF829FC0CBADD71EA</td>\n",
       "      <td>2633702</td>\n",
       "      <td>1</td>\n",
       "    </tr>\n",
       "    <tr>\n",
       "      <th>3</th>\n",
       "      <td>F942D7B0377D64F1280EA7BB8DCC3A47</td>\n",
       "      <td>2936475</td>\n",
       "      <td>1</td>\n",
       "    </tr>\n",
       "    <tr>\n",
       "      <th>4</th>\n",
       "      <td>C8BFABB5F293BC9890124E192FBFC898</td>\n",
       "      <td>2146364</td>\n",
       "      <td>1</td>\n",
       "    </tr>\n",
       "  </tbody>\n",
       "</table>\n",
       "</div>"
      ],
      "text/plain": [
       "                            user_id  product_id  rating\n",
       "0  7892FA71D8D1EAEBE438135718A5C420     2920660       1\n",
       "1  2CEBC824EBEF1B52EA7562B716D020D8     1885579       1\n",
       "2  81ADFE4DC80154EAF829FC0CBADD71EA     2633702       1\n",
       "3  F942D7B0377D64F1280EA7BB8DCC3A47     2936475       1\n",
       "4  C8BFABB5F293BC9890124E192FBFC898     2146364       1"
      ]
     },
     "execution_count": 11,
     "metadata": {},
     "output_type": "execute_result"
    }
   ],
   "source": [
    "test.head()"
   ]
  },
  {
   "cell_type": "code",
   "execution_count": 12,
   "metadata": {},
   "outputs": [],
   "source": [
    "test['time'] = x"
   ]
  },
  {
   "cell_type": "code",
   "execution_count": 13,
   "metadata": {},
   "outputs": [
    {
     "data": {
      "text/html": [
       "<div>\n",
       "<style scoped>\n",
       "    .dataframe tbody tr th:only-of-type {\n",
       "        vertical-align: middle;\n",
       "    }\n",
       "\n",
       "    .dataframe tbody tr th {\n",
       "        vertical-align: top;\n",
       "    }\n",
       "\n",
       "    .dataframe thead th {\n",
       "        text-align: right;\n",
       "    }\n",
       "</style>\n",
       "<table border=\"1\" class=\"dataframe\">\n",
       "  <thead>\n",
       "    <tr style=\"text-align: right;\">\n",
       "      <th></th>\n",
       "      <th>user_id</th>\n",
       "      <th>product_id</th>\n",
       "      <th>rating</th>\n",
       "      <th>time</th>\n",
       "    </tr>\n",
       "  </thead>\n",
       "  <tbody>\n",
       "    <tr>\n",
       "      <th>0</th>\n",
       "      <td>7892FA71D8D1EAEBE438135718A5C420</td>\n",
       "      <td>2920660</td>\n",
       "      <td>1</td>\n",
       "      <td>2016-03-31 00:00:00</td>\n",
       "    </tr>\n",
       "    <tr>\n",
       "      <th>1</th>\n",
       "      <td>2CEBC824EBEF1B52EA7562B716D020D8</td>\n",
       "      <td>1885579</td>\n",
       "      <td>1</td>\n",
       "      <td>2016-03-31 00:00:06</td>\n",
       "    </tr>\n",
       "    <tr>\n",
       "      <th>2</th>\n",
       "      <td>81ADFE4DC80154EAF829FC0CBADD71EA</td>\n",
       "      <td>2633702</td>\n",
       "      <td>1</td>\n",
       "      <td>2016-03-31 00:00:07</td>\n",
       "    </tr>\n",
       "    <tr>\n",
       "      <th>3</th>\n",
       "      <td>F942D7B0377D64F1280EA7BB8DCC3A47</td>\n",
       "      <td>2936475</td>\n",
       "      <td>1</td>\n",
       "      <td>2016-03-31 00:00:13</td>\n",
       "    </tr>\n",
       "    <tr>\n",
       "      <th>4</th>\n",
       "      <td>C8BFABB5F293BC9890124E192FBFC898</td>\n",
       "      <td>2146364</td>\n",
       "      <td>1</td>\n",
       "      <td>2016-03-31 00:00:16</td>\n",
       "    </tr>\n",
       "  </tbody>\n",
       "</table>\n",
       "</div>"
      ],
      "text/plain": [
       "                            user_id  product_id  rating                 time\n",
       "0  7892FA71D8D1EAEBE438135718A5C420     2920660       1  2016-03-31 00:00:00\n",
       "1  2CEBC824EBEF1B52EA7562B716D020D8     1885579       1  2016-03-31 00:00:06\n",
       "2  81ADFE4DC80154EAF829FC0CBADD71EA     2633702       1  2016-03-31 00:00:07\n",
       "3  F942D7B0377D64F1280EA7BB8DCC3A47     2936475       1  2016-03-31 00:00:13\n",
       "4  C8BFABB5F293BC9890124E192FBFC898     2146364       1  2016-03-31 00:00:16"
      ]
     },
     "execution_count": 13,
     "metadata": {},
     "output_type": "execute_result"
    }
   ],
   "source": [
    "test.head()"
   ]
  },
  {
   "cell_type": "code",
   "execution_count": 14,
   "metadata": {},
   "outputs": [],
   "source": [
    "test.to_csv('data.csv', index = False)"
   ]
  },
  {
   "cell_type": "code",
   "execution_count": 15,
   "metadata": {},
   "outputs": [],
   "source": [
    "df_data = pd.read_csv('u.data') "
   ]
  },
  {
   "cell_type": "code",
   "execution_count": 16,
   "metadata": {
    "scrolled": true
   },
   "outputs": [
    {
     "data": {
      "text/html": [
       "<div>\n",
       "<style scoped>\n",
       "    .dataframe tbody tr th:only-of-type {\n",
       "        vertical-align: middle;\n",
       "    }\n",
       "\n",
       "    .dataframe tbody tr th {\n",
       "        vertical-align: top;\n",
       "    }\n",
       "\n",
       "    .dataframe thead th {\n",
       "        text-align: right;\n",
       "    }\n",
       "</style>\n",
       "<table border=\"1\" class=\"dataframe\">\n",
       "  <thead>\n",
       "    <tr style=\"text-align: right;\">\n",
       "      <th></th>\n",
       "      <th>196\t242\t3\t881250949</th>\n",
       "    </tr>\n",
       "  </thead>\n",
       "  <tbody>\n",
       "    <tr>\n",
       "      <th>0</th>\n",
       "      <td>186\\t302\\t3\\t891717742</td>\n",
       "    </tr>\n",
       "    <tr>\n",
       "      <th>1</th>\n",
       "      <td>22\\t377\\t1\\t878887116</td>\n",
       "    </tr>\n",
       "    <tr>\n",
       "      <th>2</th>\n",
       "      <td>244\\t51\\t2\\t880606923</td>\n",
       "    </tr>\n",
       "    <tr>\n",
       "      <th>3</th>\n",
       "      <td>166\\t346\\t1\\t886397596</td>\n",
       "    </tr>\n",
       "    <tr>\n",
       "      <th>4</th>\n",
       "      <td>298\\t474\\t4\\t884182806</td>\n",
       "    </tr>\n",
       "  </tbody>\n",
       "</table>\n",
       "</div>"
      ],
      "text/plain": [
       "   196\\t242\\t3\\t881250949\n",
       "0  186\\t302\\t3\\t891717742\n",
       "1   22\\t377\\t1\\t878887116\n",
       "2   244\\t51\\t2\\t880606923\n",
       "3  166\\t346\\t1\\t886397596\n",
       "4  298\\t474\\t4\\t884182806"
      ]
     },
     "execution_count": 16,
     "metadata": {},
     "output_type": "execute_result"
    }
   ],
   "source": [
    "df_data.head()"
   ]
  },
  {
   "cell_type": "code",
   "execution_count": 17,
   "metadata": {},
   "outputs": [
    {
     "data": {
      "text/plain": [
       "799484"
      ]
     },
     "execution_count": 17,
     "metadata": {},
     "output_type": "execute_result"
    }
   ],
   "source": [
    "test['user_id'].nunique()"
   ]
  },
  {
   "cell_type": "code",
   "execution_count": 18,
   "metadata": {},
   "outputs": [
    {
     "data": {
      "text/plain": [
       "620651"
      ]
     },
     "execution_count": 18,
     "metadata": {},
     "output_type": "execute_result"
    }
   ],
   "source": [
    "test['product_id'].nunique()"
   ]
  },
  {
   "cell_type": "code",
   "execution_count": 19,
   "metadata": {},
   "outputs": [],
   "source": [
    "uid = test['user_id'].unique()"
   ]
  },
  {
   "cell_type": "code",
   "execution_count": 20,
   "metadata": {},
   "outputs": [
    {
     "data": {
      "text/plain": [
       "array(['7892FA71D8D1EAEBE438135718A5C420',\n",
       "       '2CEBC824EBEF1B52EA7562B716D020D8',\n",
       "       '81ADFE4DC80154EAF829FC0CBADD71EA', ...,\n",
       "       'BE6CB7CEF3A5C16859BB5E160CD5A743',\n",
       "       'F484AB963BD3F4B93D8076B82BD7F3CC',\n",
       "       'C8A11979E39607CE982CDD332FB09712'], dtype=object)"
      ]
     },
     "execution_count": 20,
     "metadata": {},
     "output_type": "execute_result"
    }
   ],
   "source": [
    "uid"
   ]
  },
  {
   "cell_type": "code",
   "execution_count": 23,
   "metadata": {},
   "outputs": [],
   "source": [
    "index = 0\n",
    "dic_temp = {'uid':'index'} \n",
    "for uid_i in uid:\n",
    "    dic_temp[uid_i] = index\n",
    "    index += 1\n",
    "    "
   ]
  },
  {
   "cell_type": "code",
   "execution_count": 28,
   "metadata": {},
   "outputs": [
    {
     "data": {
      "text/plain": [
       "'index'"
      ]
     },
     "execution_count": 28,
     "metadata": {},
     "output_type": "execute_result"
    }
   ],
   "source": [
    "dic_temp.pop('uid')"
   ]
  },
  {
   "cell_type": "code",
   "execution_count": 31,
   "metadata": {},
   "outputs": [],
   "source": [
    "import csv\n",
    "\n",
    "with open('uid.csv', 'w') as f:\n",
    "    for key in dic_temp.keys():\n",
    "        f.write(\"%s,%s\\n\"%(key,dic_temp[key]))"
   ]
  },
  {
   "cell_type": "code",
   "execution_count": null,
   "metadata": {},
   "outputs": [],
   "source": [
    "def p(x):\n",
    "    print(x)\n",
    "test['user_id'] = test['user_id'].apply(lambda x : p(x))"
   ]
  },
  {
   "cell_type": "code",
   "execution_count": null,
   "metadata": {},
   "outputs": [],
   "source": []
  },
  {
   "cell_type": "code",
   "execution_count": null,
   "metadata": {},
   "outputs": [],
   "source": []
  }
 ],
 "metadata": {
  "kernelspec": {
   "display_name": "Python 3",
   "language": "python",
   "name": "python3"
  },
  "language_info": {
   "codemirror_mode": {
    "name": "ipython",
    "version": 3
   },
   "file_extension": ".py",
   "mimetype": "text/x-python",
   "name": "python",
   "nbconvert_exporter": "python",
   "pygments_lexer": "ipython3",
   "version": "3.7.3"
  }
 },
 "nbformat": 4,
 "nbformat_minor": 2
}
